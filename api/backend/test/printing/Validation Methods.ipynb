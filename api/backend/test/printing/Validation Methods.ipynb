{
 "cells": [
  {
   "cell_type": "markdown",
   "id": "8de76862",
   "metadata": {},
   "source": [
    "Validation test"
   ]
  },
  {
   "cell_type": "code",
   "execution_count": 1,
   "id": "5a494ab6",
   "metadata": {},
   "outputs": [],
   "source": [
    "import re\n",
    "import io\n",
    "import sys\n",
    "\n",
    "from printing_problems import *\n"
   ]
  },
  {
   "cell_type": "code",
   "execution_count": 6,
   "id": "e962dbb3",
   "metadata": {},
   "outputs": [
    {
     "name": "stdout",
     "output_type": "stream",
     "text": [
      "hello world\n"
     ]
    }
   ],
   "source": [
    "#Checking the code executes\n",
    "\n",
    "\n",
    "def evaluate_code(code):\n",
    "    #Checks excution\n",
    "    try:\n",
    "        exec(code)\n",
    "    except Exception as e:\n",
    "        print(\"Execution error! Please check your Code\")\n",
    "        return e\n",
    "    return None\n",
    "\n",
    "evaluate_code(\"print('hello world')\")"
   ]
  },
  {
   "cell_type": "markdown",
   "id": "76f21a9b",
   "metadata": {},
   "source": [
    "Matching Regex"
   ]
  },
  {
   "cell_type": "code",
   "execution_count": 12,
   "id": "e1e92c9b",
   "metadata": {},
   "outputs": [
    {
     "name": "stdout",
     "output_type": "stream",
     "text": [
      "True\n"
     ]
    }
   ],
   "source": [
    "def matches_regex(string, regex):\n",
    "    # Validation test\n",
    "    return bool(re.match(regex, string))\n",
    "\n",
    "result = matches_regex(\"ahmed\", r\"^[\\w'\\-,.][^0-9_!¡?÷?¿/\\\\+=@#$%ˆ&*(){}|~<>;:[\\]]{2,}$\")\n",
    "print(result)"
   ]
  },
  {
   "cell_type": "markdown",
   "id": "ef609a01",
   "metadata": {},
   "source": [
    "Replace Code with Block"
   ]
  },
  {
   "cell_type": "code",
   "execution_count": 17,
   "id": "d984b300",
   "metadata": {},
   "outputs": [
    {
     "ename": "TypeError",
     "evalue": "'NoneType' object is not subscriptable",
     "output_type": "error",
     "traceback": [
      "\u001b[0;31m---------------------------------------------------------------------------\u001b[0m",
      "\u001b[0;31mTypeError\u001b[0m                                 Traceback (most recent call last)",
      "Cell \u001b[0;32mIn[17], line 45\u001b[0m\n\u001b[1;32m     36\u001b[0m     \u001b[38;5;28;01mreturn\u001b[39;00m code\n\u001b[1;32m     40\u001b[0m user_problem1 \u001b[38;5;241m=\u001b[39m \u001b[38;5;124m\"\"\"\u001b[39m\n\u001b[1;32m     41\u001b[0m \u001b[38;5;124mdef print_hello_world():\u001b[39m\n\u001b[1;32m     42\u001b[0m \u001b[38;5;124m    block\u001b[39m\n\u001b[1;32m     43\u001b[0m \u001b[38;5;124m\"\"\"\u001b[39m\n\u001b[0;32m---> 45\u001b[0m replace_code_with_blocks(user_problem1)\n",
      "Cell \u001b[0;32mIn[17], line 29\u001b[0m, in \u001b[0;36mreplace_code_with_blocks\u001b[0;34m(problem)\u001b[0m\n\u001b[1;32m     27\u001b[0m     r \u001b[38;5;241m+\u001b[39m\u001b[38;5;241m=\u001b[39m \u001b[38;5;241m1\u001b[39m\n\u001b[1;32m     28\u001b[0m \u001b[38;5;28;01melse\u001b[39;00m:\n\u001b[0;32m---> 29\u001b[0m     code \u001b[38;5;241m+\u001b[39m\u001b[38;5;241m=\u001b[39m get_block_string(problem)[\u001b[38;5;241m0\u001b[39m]\n\u001b[1;32m     30\u001b[0m     l \u001b[38;5;241m+\u001b[39m\u001b[38;5;241m=\u001b[39m \u001b[38;5;28mlen\u001b[39m(get_block_string(problem)[\u001b[38;5;241m0\u001b[39m])\n\u001b[1;32m     31\u001b[0m     r \u001b[38;5;241m+\u001b[39m\u001b[38;5;241m=\u001b[39m \u001b[38;5;28mlen\u001b[39m(get_block_string(problem)[\u001b[38;5;241m0\u001b[39m])\n",
      "\u001b[0;31mTypeError\u001b[0m: 'NoneType' object is not subscriptable"
     ]
    }
   ],
   "source": []
  },
  {
   "cell_type": "code",
   "execution_count": null,
   "id": "068896db",
   "metadata": {},
   "outputs": [],
   "source": []
  }
 ],
 "metadata": {
  "kernelspec": {
   "display_name": "Python 3 (ipykernel)",
   "language": "python",
   "name": "python3"
  },
  "language_info": {
   "codemirror_mode": {
    "name": "ipython",
    "version": 3
   },
   "file_extension": ".py",
   "mimetype": "text/x-python",
   "name": "python",
   "nbconvert_exporter": "python",
   "pygments_lexer": "ipython3",
   "version": "3.11.5"
  }
 },
 "nbformat": 4,
 "nbformat_minor": 5
}
